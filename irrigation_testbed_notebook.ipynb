{
 "cells": [
  {
   "cell_type": "code",
   "execution_count": 44,
   "metadata": {},
   "outputs": [],
   "source": [
    "from pymodbus.client import ModbusTcpClient\n",
    "import time\n",
    "import random"
   ]
  },
  {
   "cell_type": "code",
   "execution_count": 45,
   "metadata": {},
   "outputs": [
    {
     "data": {
      "text/plain": [
       "True"
      ]
     },
     "execution_count": 45,
     "metadata": {},
     "output_type": "execute_result"
    }
   ],
   "source": [
    "client = ModbusTcpClient('192.168.1.215')\n",
    "client.connect()"
   ]
  },
  {
   "cell_type": "markdown",
   "metadata": {},
   "source": []
  },
  {
   "cell_type": "code",
   "execution_count": 28,
   "metadata": {},
   "outputs": [],
   "source": [
    "def manage_tank_level(tank_value : int, max_tank_value : int):\n",
    "    meter = \"#\" * max_tank_value\n",
    "    print(\"Current Tank Level\", end=\" \")\n",
    "    print(\"\\tMeter\")\n",
    "    print(tank_value, end=\" \")\n",
    "    print(\"\\t\\t\\t\" + meter[0:tank_value])\n",
    "\n",
    "    coils = client.read_coils(0,6)\n",
    "    is_tank_full = coils.bits[3]\n",
    "    is_tank_empty = coils.bits[5]\n",
    "\n",
    "    if is_tank_empty:\n",
    "        coils = client.write_coil(2, 1)\n",
    "    elif is_tank_full:\n",
    "        coils = client.write_coil(2, 0)\n",
    "    \n"
   ]
  },
  {
   "attachments": {},
   "cell_type": "markdown",
   "metadata": {},
   "source": [
    "Plant Moisture Sensor"
   ]
  },
  {
   "cell_type": "code",
   "execution_count": 70,
   "metadata": {},
   "outputs": [
    {
     "name": "stdout",
     "output_type": "stream",
     "text": [
      "Plant Moisture \tMeter\n",
      "5 \t\t#####\n",
      "Plant Moisture \tMeter\n",
      "4 \t\t####\n",
      "Plant Moisture \tMeter\n",
      "3 \t\t###\n",
      "Plant Moisture \tMeter\n",
      "2 \t\t##\n",
      "Plant Moisture \tMeter\n",
      "1 \t\t#\n",
      "Plant Moisture \tMeter\n",
      "0 \t\t\n",
      "Plant Moisture \tMeter\n",
      "0 \t\t\n",
      "Plant Moisture \tMeter\n",
      "1 \t\t#\n",
      "Plant Moisture \tMeter\n",
      "1 \t\t#\n"
     ]
    },
    {
     "ename": "KeyboardInterrupt",
     "evalue": "",
     "output_type": "error",
     "traceback": [
      "\u001b[1;31m---------------------------------------------------------------------------\u001b[0m",
      "\u001b[1;31mKeyboardInterrupt\u001b[0m                         Traceback (most recent call last)",
      "Cell \u001b[1;32mIn[70], line 42\u001b[0m\n\u001b[0;32m     40\u001b[0m     time\u001b[39m.\u001b[39msleep(\u001b[39m1\u001b[39m)\n\u001b[0;32m     41\u001b[0m \u001b[39melse\u001b[39;00m:\n\u001b[1;32m---> 42\u001b[0m     time\u001b[39m.\u001b[39msleep(random_time)\n",
      "\u001b[1;31mKeyboardInterrupt\u001b[0m: "
     ]
    }
   ],
   "source": [
    "plant_moisture = 5\n",
    "max_moisture = 10\n",
    "meter = \"##########\"\n",
    "dry = False\n",
    "while True:\n",
    "    print(\"Plant Moisture\", end=\" \")\n",
    "    print(\"\\tMeter\")\n",
    "    print(plant_moisture, end=\" \")\n",
    "    print(\"\\t\\t\" + meter[0:plant_moisture])\n",
    "\n",
    "    coils = client.read_coils(0,6)\n",
    "    is_pump_on = coils.bits[1]\n",
    "    is_tank_full = coils.bits[3]\n",
    "    is_tank_empty = coils.bits[5]\n",
    "\n",
    "    # used to simulate plant moisture going down\n",
    "    # at random times between 2 and 10\n",
    "    random_time = random.randint(2, 10)\n",
    "\n",
    "    if not is_pump_on:\n",
    "        plant_moisture -= 1\n",
    "\n",
    "        if plant_moisture == 0:\n",
    "            dry = True\n",
    "    \n",
    "    if dry and not is_tank_empty:\n",
    "        plant_moisture += 1\n",
    "        coils = client.write_coil(0,1)\n",
    "\n",
    "        if plant_moisture > 8:\n",
    "            dry = False\n",
    "            coils = client.write_coil(0,0)\n",
    "\n",
    "    if plant_moisture > max_moisture:\n",
    "        plant_moisture = max_moisture\n",
    "    elif plant_moisture < 0:\n",
    "        plant_moisture = 0\n",
    "\n",
    "    if is_pump_on:\n",
    "        time.sleep(1)\n",
    "    else:\n",
    "        time.sleep(random_time)\n",
    "    \n",
    "    \n"
   ]
  },
  {
   "cell_type": "code",
   "execution_count": null,
   "metadata": {},
   "outputs": [],
   "source": [
    "\n",
    "while True:\n",
    "    holding_registers = client.read_holding_registers(0, 3)\n",
    "    max_tank_level = holding_registers.registers[0]\n",
    "    current_tank_level = holding_registers.registers[2]\n",
    "    manage_tank_level(current_tank_level, max_tank_level)\n",
    "    time.sleep(1)\n",
    "    "
   ]
  }
 ],
 "metadata": {
  "kernelspec": {
   "display_name": "Python 3",
   "language": "python",
   "name": "python3"
  },
  "language_info": {
   "codemirror_mode": {
    "name": "ipython",
    "version": 3
   },
   "file_extension": ".py",
   "mimetype": "text/x-python",
   "name": "python",
   "nbconvert_exporter": "python",
   "pygments_lexer": "ipython3",
   "version": "3.11.2"
  },
  "orig_nbformat": 4,
  "vscode": {
   "interpreter": {
    "hash": "1cb9c0865479230b3dac1d1e9123dffcfb1eb961828ddec19775e6b5e874c7e4"
   }
  }
 },
 "nbformat": 4,
 "nbformat_minor": 2
}

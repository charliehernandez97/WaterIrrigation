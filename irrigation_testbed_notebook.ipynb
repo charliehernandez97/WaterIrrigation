{
 "cells": [
  {
   "cell_type": "code",
   "execution_count": 2,
   "metadata": {},
   "outputs": [],
   "source": [
    "from pymodbus.client import ModbusTcpClient\n",
    "import time"
   ]
  },
  {
   "cell_type": "code",
   "execution_count": 3,
   "metadata": {},
   "outputs": [
    {
     "data": {
      "text/plain": [
       "True"
      ]
     },
     "execution_count": 3,
     "metadata": {},
     "output_type": "execute_result"
    }
   ],
   "source": [
    "client = ModbusTcpClient('192.168.1.215')\n",
    "client.connect()"
   ]
  },
  {
   "cell_type": "code",
   "execution_count": 4,
   "metadata": {},
   "outputs": [],
   "source": [
    "def print_tank_level(tank_value : int, max_tank_value : int):\n",
    "    meter = \"#\" * max_tank_value\n",
    "    print(\"Current Tank Level\", end=\" \")\n",
    "    print(\"\\tMeter\")\n",
    "    print(tank_value, end=\" \")\n",
    "    print(\"\\t\\t\\t\" + meter[0:tank_value])"
   ]
  },
  {
   "cell_type": "code",
   "execution_count": null,
   "metadata": {},
   "outputs": [],
   "source": [
    "\n",
    "while True:\n",
    "    holding_registers = client.read_holding_registers(0, 3)\n",
    "    max_tank_level = holding_registers.registers[0]\n",
    "    current_tank_level = holding_registers.registers[2]\n",
    "    print_tank_level(current_tank_level, max_tank_level)\n",
    "    time.sleep(1)\n",
    "    "
   ]
  }
 ],
 "metadata": {
  "kernelspec": {
   "display_name": "Python 3",
   "language": "python",
   "name": "python3"
  },
  "language_info": {
   "codemirror_mode": {
    "name": "ipython",
    "version": 3
   },
   "file_extension": ".py",
   "mimetype": "text/x-python",
   "name": "python",
   "nbconvert_exporter": "python",
   "pygments_lexer": "ipython3",
   "version": "3.11.2"
  },
  "orig_nbformat": 4,
  "vscode": {
   "interpreter": {
    "hash": "1cb9c0865479230b3dac1d1e9123dffcfb1eb961828ddec19775e6b5e874c7e4"
   }
  }
 },
 "nbformat": 4,
 "nbformat_minor": 2
}
